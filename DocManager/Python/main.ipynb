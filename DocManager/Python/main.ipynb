{
 "cells": [
  {
   "cell_type": "code",
   "execution_count": null,
   "metadata": {},
   "outputs": [],
   "source": [
    "import matplotlib.pyplot as plt\n",
    "import datetime\n",
    "import numpy as np\n",
    "%matplotlib inline\n",
    "import pandas as pd"
   ]
  },
  {
   "cell_type": "markdown",
   "metadata": {},
   "source": [
    "Gráfico para a exibição de imóveis por tipo"
   ]
  },
  {
   "cell_type": "code",
   "execution_count": null,
   "metadata": {},
   "outputs": [],
   "source": [
    "hoje = str(datetime.date.today())\n",
    "\n",
    "arquivo = \"Export_toAnalisar_0_\" + hoje.replace(\"-\", \"_\") + \".csv\"\n",
    "\n",
    "banco = pd.read_csv(arquivo, sep=\";\")"
   ]
  },
  {
   "cell_type": "code",
   "execution_count": null,
   "metadata": {},
   "outputs": [],
   "source": [
    "qtdArquivos = len(banco[banco.head(0).columns[0]])\n",
    "\n",
    "qtdArquivos"
   ]
  },
  {
   "cell_type": "code",
   "execution_count": null,
   "metadata": {},
   "outputs": [],
   "source": [
    "revisoes = banco.head(0).columns[1]\n",
    "arquivos = banco.head(0).columns[0]\n",
    "\n",
    "banco[revisoes].fillna(\"-1\", inplace = True)"
   ]
  },
  {
   "cell_type": "code",
   "execution_count": null,
   "metadata": {},
   "outputs": [],
   "source": [
    "banco = banco[banco[revisoes].str.len().lt(4)]\n"
   ]
  },
  {
   "cell_type": "code",
   "execution_count": null,
   "metadata": {},
   "outputs": [],
   "source": [
    "banco[revisoes].value_counts()\n",
    "\n",
    "labels = banco[revisoes].value_counts().index.tolist()\n",
    "\n",
    "labels"
   ]
  },
  {
   "cell_type": "code",
   "execution_count": null,
   "metadata": {},
   "outputs": [],
   "source": [
    "\n",
    "fig1, ax1 = plt.subplots(figsize=(8,8))\n",
    "\n",
    "cmap = plt.get_cmap(\"Set2\")\n",
    "colors = cmap(np.array([1, 2, 3, 4, 5, 6, 7]))\n",
    "\n",
    "try:\n",
    "    ax1.pie(banco[revisoes].value_counts(),\n",
    "        radius=1.3,\n",
    "        labeldistance=.8,\n",
    "        startangle=90,\n",
    "        colors=colors,\n",
    "        counterclock=False,\n",
    "        wedgeprops={'edgecolor': 'white'},\n",
    "        textprops={'fontsize': 7},\n",
    "        pctdistance=0.8,\n",
    "        )\n",
    "\n",
    "    total = 100. *banco[revisoes].value_counts()/banco[revisoes].value_counts().sum()\n",
    "\n",
    "    labels_filtro = ['{0} - {1:1.2f} %'.format(i,j) for i,j in zip(labels, total)]\n",
    "\n",
    "    plt.legend(labels_filtro, loc=\"best\", fontsize=8)\n",
    "\n",
    "    centre_circle = plt.Circle((0,0),0.70,fc='white')\n",
    "    ax1 = plt.gcf()\n",
    "    ax1.gca().add_artist(centre_circle)\n",
    "\n",
    "    plt.tight_layout()\n",
    "\n",
    "    ax1.savefig(\"Analise_0_\" + hoje.replace(\"-\", \"_\") + \".png\", dpi=350)\n",
    "\n",
    "except: \n",
    "    pass\n",
    "\n"
   ]
  }
 ],
 "metadata": {
  "kernelspec": {
   "display_name": "Python 3.9.10 64-bit",
   "language": "python",
   "name": "python3"
  },
  "language_info": {
   "codemirror_mode": {
    "name": "ipython",
    "version": 3
   },
   "file_extension": ".py",
   "mimetype": "text/x-python",
   "name": "python",
   "nbconvert_exporter": "python",
   "pygments_lexer": "ipython3",
   "version": "3.9.10"
  },
  "orig_nbformat": 4,
  "vscode": {
   "interpreter": {
    "hash": "150fc72e3d8da16b9d596d379abe7445101e5b61e3970a72cb7a2ef30ae801ec"
   }
  }
 },
 "nbformat": 4,
 "nbformat_minor": 2
}
